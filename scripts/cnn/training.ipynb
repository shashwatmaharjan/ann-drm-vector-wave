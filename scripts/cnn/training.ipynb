{
 "cells": [
  {
   "cell_type": "code",
   "execution_count": 1,
   "metadata": {},
   "outputs": [
    {
     "name": "stderr",
     "output_type": "stream",
     "text": [
      "2024-02-06 21:07:33.730479: I tensorflow/core/util/port.cc:110] oneDNN custom operations are on. You may see slightly different numerical results due to floating-point round-off errors from different computation orders. To turn them off, set the environment variable `TF_ENABLE_ONEDNN_OPTS=0`.\n",
      "2024-02-06 21:07:34.282698: I tensorflow/core/platform/cpu_feature_guard.cc:183] This TensorFlow binary is optimized to use available CPU instructions in performance-critical operations.\n",
      "To enable the following instructions: SSE3 SSE4.1 SSE4.2 AVX, in other operations, rebuild TensorFlow with the appropriate compiler flags.\n"
     ]
    }
   ],
   "source": [
    "# Import necessary libraries\n",
    "import os\n",
    "import numpy as np\n",
    "import matplotlib.pyplot as plt\n",
    "import tensorflow as tf\n",
    "\n",
    "\n",
    "from matplotlib.ticker import MaxNLocator"
   ]
  },
  {
   "cell_type": "code",
   "execution_count": 2,
   "metadata": {},
   "outputs": [],
   "source": [
    "# Change fonts and specify font size\n",
    "plt.rcParams['font.family'] = 'serif'\n",
    "plt.rcParams['mathtext.fontset'] = 'dejavuserif'\n",
    "FONT_SIZE = 12"
   ]
  },
  {
   "cell_type": "code",
   "execution_count": 3,
   "metadata": {},
   "outputs": [],
   "source": [
    "# Define necessary functions\n",
    "# Function to save files\n",
    "def save_file(values, file_name, file_directory):\n",
    "    \n",
    "    # Save the file as a .npy file\n",
    "    np.save(os.path.join(file_directory, file_name), values)\n",
    "    \n",
    "    print(f'Saved {file_name} to {file_directory}')"
   ]
  },
  {
   "cell_type": "code",
   "execution_count": 4,
   "metadata": {},
   "outputs": [],
   "source": [
    "# CNN class\n",
    "class CNN():\n",
    "\n",
    "    def __init__(self, input_shape, output_shape):\n",
    "        \n",
    "        self.input_shape = input_shape\n",
    "        self.output_shape = output_shape\n",
    "        \n",
    "        # Initialize input_layer here\n",
    "        self.input_layer = None  \n",
    "\n",
    "    # Method to build the hidden layers\n",
    "    def build_hidden_layers(self):\n",
    "        \n",
    "        # Convolutional Layers\n",
    "        # First Convolutional Layer\n",
    "        x1 = tf.keras.layers.Conv1D(filters=600, kernel_size=95, padding='same', activation='LeakyReLU', kernel_initializer = 'glorot_normal')(self.input_layer)\n",
    "        x1 = tf.keras.layers.BatchNormalization()(x1)\n",
    "\n",
    "        # Second Convolutional Layer\n",
    "        x2 = tf.keras.layers.Conv1D(filters=400, kernel_size=95, padding='same', activation='LeakyReLU', kernel_initializer = 'glorot_normal')(x1)\n",
    "        x2 = tf.keras.layers.BatchNormalization()(x2)\n",
    "        \n",
    "        # Third Convolutional Layer\n",
    "        x3 = tf.keras.layers.Conv1D(filters=100, kernel_size=95, padding='same', activation='LeakyReLU', kernel_initializer = 'glorot_normal')(x2)\n",
    "        x3 = tf.keras.layers.BatchNormalization()(x3)\n",
    "\n",
    "        return x3\n",
    "\n",
    "    # Method to build the overall model\n",
    "    def build_model(self):\n",
    "        \n",
    "        # Input layer\n",
    "        self.input_layer = tf.keras.layers.Input(shape=self.input_shape)\n",
    "\n",
    "        # Hidden layer\n",
    "        hidden_layer = self.build_hidden_layers()\n",
    "\n",
    "        # Output Layer\n",
    "        output_layer = tf.keras.layers.Conv1D(filters=self.output_shape[1], kernel_size=95, padding='same', activation='LeakyReLU', kernel_initializer = 'glorot_normal')(hidden_layer)\n",
    "\n",
    "        # Build model\n",
    "        self.model = tf.keras.models.Model(inputs=[self.input_layer], outputs=[output_layer])\n",
    "\n",
    "        return self.model\n",
    "\n",
    "    # Method to compile the model\n",
    "    def compile(self, optimizer, loss, evaluation_metric):\n",
    "        \n",
    "        # Compile model\n",
    "        self.model.compile(optimizer=optimizer, loss=loss, metrics=evaluation_metric)\n",
    "\n",
    "        return self.model\n",
    "    \n",
    "    # Define method to train the model\n",
    "    def train(self, x_train, y_train, epochs, batch_size, callbacks):\n",
    "        \n",
    "        # Train model\n",
    "        self.history = self.model.fit(x_train, y_train, epochs=epochs, batch_size=batch_size, callbacks=callbacks, validation_split=0.2)\n",
    "        \n",
    "        return self.history\n",
    "    \n",
    "    # Method to print summary of model\n",
    "    def summary(self):\n",
    "        \n",
    "        self.model.summary()"
   ]
  },
  {
   "cell_type": "code",
   "execution_count": 5,
   "metadata": {},
   "outputs": [],
   "source": [
    "class plots:\n",
    "    \n",
    "    def __init__(self, history, file_directory):\n",
    "\n",
    "        self.history = history\n",
    "        self.file_directory = file_directory\n",
    "\n",
    "    def loss(self):\n",
    "\n",
    "        loss_name = list(self.history.history.keys())[0]\n",
    "\n",
    "        # Training\n",
    "        loss = self.history.history[loss_name]\n",
    "        val_loss = self.history.history['val_' + loss_name]\n",
    "\n",
    "        loss_plot = plt.figure()\n",
    "        epochs = range(1, len(loss)+1)\n",
    "        plt.plot(epochs, loss, 'bo--', label = 'Training Loss', markersize = 2)\n",
    "        plt.plot(epochs, val_loss, 'go--', label = 'Validation Loss', markersize = 2)\n",
    "        plt.title('Training and Validation Loss', fontsize=FONT_SIZE)\n",
    "        plt.xlabel('Epochs', fontsize=FONT_SIZE)\n",
    "        plt.ylabel('Loss', fontsize=FONT_SIZE)\n",
    "        plt.legend(['Training Loss', 'Validation Loss'], fontsize=FONT_SIZE)\n",
    "        ax = loss_plot.gca()\n",
    "        ax.xaxis.set_major_locator(MaxNLocator(integer=True))\n",
    "        plt.savefig(self.file_directory + '/loss.pdf', bbox_inches='tight')\n",
    "        \n",
    "        return loss_plot\n",
    "\n",
    "    def evaluation_metric(self):\n",
    "\n",
    "        metric_name = list(self.history.history.keys())[1]\n",
    "        \n",
    "        # Training\n",
    "        metric = self.history.history[metric_name]\n",
    "        val_metric = self.history.history['val_' + metric_name]\n",
    "\n",
    "        metric_plot = plt.figure()\n",
    "        epochs = range(1, len(metric)+1)\n",
    "        plt.plot(epochs, metric, 'bo--', label = 'Training Metric', markersize = 2)\n",
    "        plt.plot(epochs, val_metric, 'go--', label = 'Validation Metric', markersize = 2)\n",
    "        plt.title('Training and Validation Evaluation Metric', fontsize=FONT_SIZE)\n",
    "        plt.xlabel('Epochs', fontsize=FONT_SIZE)\n",
    "        plt.ylabel('Evaluation Metric', fontsize=FONT_SIZE)\n",
    "        plt.legend(['Training Metric', 'Validation Metric'], fontsize=FONT_SIZE)\n",
    "        ax = metric_plot.gca()\n",
    "        ax.xaxis.set_major_locator(MaxNLocator(integer=True))\n",
    "        plt.savefig(self.file_directory + '/evaluation_metric.pdf', bbox_inches='tight')\n",
    "\n",
    "        return metric_plot"
   ]
  },
  {
   "cell_type": "code",
   "execution_count": 6,
   "metadata": {},
   "outputs": [],
   "source": [
    "# Define directories\n",
    "current_directory = os.getcwd()\n",
    "\n",
    "# Define directory for the normalized data\n",
    "normalized_data_directory = os.path.join(current_directory, '..', '..', 'data', 'normalized')\n",
    "\n",
    "# Define directory for the trained results\n",
    "trained_results_directory = os.path.join(current_directory, '..', '..', 'cnn', 'training_results')"
   ]
  },
  {
   "cell_type": "code",
   "execution_count": 7,
   "metadata": {},
   "outputs": [
    {
     "name": "stdout",
     "output_type": "stream",
     "text": [
      "Loading the normalized training subsets for displacement data...\n"
     ]
    }
   ],
   "source": [
    "# Working with just the displacement data to conserve memory\n",
    "# Load the normalized training subsets for displacement data\n",
    "print('Loading the normalized training subsets for displacement data...')\n",
    "normalized_training_displacement_data = np.load(os.path.join(normalized_data_directory, 'normalized_training_displacement_data.npy'))"
   ]
  },
  {
   "cell_type": "code",
   "execution_count": 8,
   "metadata": {},
   "outputs": [
    {
     "name": "stdout",
     "output_type": "stream",
     "text": [
      "Loading the normalized training subsets for force data...\n"
     ]
    }
   ],
   "source": [
    "# Load the normalized training subsets for force data\n",
    "print('Loading the normalized training subsets for force data...')\n",
    "normalized_training_force_data = np.load(os.path.join(normalized_data_directory, 'normalized_training_force_data.npy'))"
   ]
  },
  {
   "cell_type": "code",
   "execution_count": 9,
   "metadata": {},
   "outputs": [
    {
     "name": "stdout",
     "output_type": "stream",
     "text": [
      "The shape of displacement data is (251, 74).\n",
      "The shape of force data is (251, 894).\n"
     ]
    }
   ],
   "source": [
    "# Print the shapes of the displacement and force data\n",
    "print(f'The shape of displacement data is {normalized_training_displacement_data.shape[1:]}.')\n",
    "print(f'The shape of force data is {normalized_training_force_data.shape[1:]}.')"
   ]
  },
  {
   "cell_type": "code",
   "execution_count": 10,
   "metadata": {},
   "outputs": [],
   "source": [
    "# Define variables that remain constant during the training\n",
    "input_shape = normalized_training_displacement_data.shape[1:]\n",
    "output_shape = normalized_training_force_data.shape[1:]"
   ]
  },
  {
   "cell_type": "code",
   "execution_count": 11,
   "metadata": {},
   "outputs": [],
   "source": [
    "# Create an instance of the CNN class\n",
    "model = CNN(input_shape, output_shape)"
   ]
  },
  {
   "cell_type": "code",
   "execution_count": 12,
   "metadata": {},
   "outputs": [
    {
     "name": "stderr",
     "output_type": "stream",
     "text": [
      "2024-02-06 21:07:50.815906: I tensorflow/core/common_runtime/gpu/gpu_device.cc:1636] Created device /job:localhost/replica:0/task:0/device:GPU:0 with 31125 MB memory:  -> device: 0, name: Tesla V100-SXM2-32GB, pci bus id: 0000:15:00.0, compute capability: 7.0\n",
      "2024-02-06 21:07:50.819116: I tensorflow/core/common_runtime/gpu/gpu_device.cc:1636] Created device /job:localhost/replica:0/task:0/device:GPU:1 with 31125 MB memory:  -> device: 1, name: Tesla V100-SXM2-32GB, pci bus id: 0000:16:00.0, compute capability: 7.0\n",
      "2024-02-06 21:07:50.821359: I tensorflow/core/common_runtime/gpu/gpu_device.cc:1636] Created device /job:localhost/replica:0/task:0/device:GPU:2 with 31125 MB memory:  -> device: 2, name: Tesla V100-SXM2-32GB, pci bus id: 0000:3a:00.0, compute capability: 7.0\n",
      "2024-02-06 21:07:50.822358: I tensorflow/core/common_runtime/gpu/gpu_device.cc:1636] Created device /job:localhost/replica:0/task:0/device:GPU:3 with 31125 MB memory:  -> device: 3, name: Tesla V100-SXM2-32GB, pci bus id: 0000:3b:00.0, compute capability: 7.0\n",
      "2024-02-06 21:07:50.823339: I tensorflow/core/common_runtime/gpu/gpu_device.cc:1636] Created device /job:localhost/replica:0/task:0/device:GPU:4 with 31125 MB memory:  -> device: 4, name: Tesla V100-SXM2-32GB, pci bus id: 0000:89:00.0, compute capability: 7.0\n",
      "2024-02-06 21:07:50.824296: I tensorflow/core/common_runtime/gpu/gpu_device.cc:1636] Created device /job:localhost/replica:0/task:0/device:GPU:5 with 31125 MB memory:  -> device: 5, name: Tesla V100-SXM2-32GB, pci bus id: 0000:8a:00.0, compute capability: 7.0\n",
      "2024-02-06 21:07:50.825265: I tensorflow/core/common_runtime/gpu/gpu_device.cc:1636] Created device /job:localhost/replica:0/task:0/device:GPU:6 with 31125 MB memory:  -> device: 6, name: Tesla V100-SXM2-32GB, pci bus id: 0000:b2:00.0, compute capability: 7.0\n",
      "2024-02-06 21:07:50.826185: I tensorflow/core/common_runtime/gpu/gpu_device.cc:1636] Created device /job:localhost/replica:0/task:0/device:GPU:7 with 31125 MB memory:  -> device: 7, name: Tesla V100-SXM2-32GB, pci bus id: 0000:b3:00.0, compute capability: 7.0\n"
     ]
    },
    {
     "data": {
      "text/plain": [
       "<keras.src.engine.functional.Functional at 0x14910cd06050>"
      ]
     },
     "execution_count": 12,
     "metadata": {},
     "output_type": "execute_result"
    }
   ],
   "source": [
    "# Build and the model\n",
    "model.build_model()\n",
    "model.compile(optimizer = tf.keras.optimizers.Nadam(learning_rate=0.001), loss = 'mae', evaluation_metric = 'mse')"
   ]
  },
  {
   "cell_type": "code",
   "execution_count": 13,
   "metadata": {},
   "outputs": [
    {
     "name": "stdout",
     "output_type": "stream",
     "text": [
      "Model: \"model\"\n",
      "_________________________________________________________________\n",
      " Layer (type)                Output Shape              Param #   \n",
      "=================================================================\n",
      " input_1 (InputLayer)        [(None, 251, 74)]         0         \n",
      "                                                                 \n",
      " conv1d (Conv1D)             (None, 251, 600)          4218600   \n",
      "                                                                 \n",
      " batch_normalization (Batch  (None, 251, 600)          2400      \n",
      " Normalization)                                                  \n",
      "                                                                 \n",
      " conv1d_1 (Conv1D)           (None, 251, 400)          22800400  \n",
      "                                                                 \n",
      " batch_normalization_1 (Bat  (None, 251, 400)          1600      \n",
      " chNormalization)                                                \n",
      "                                                                 \n",
      " conv1d_2 (Conv1D)           (None, 251, 100)          3800100   \n",
      "                                                                 \n",
      " batch_normalization_2 (Bat  (None, 251, 100)          400       \n",
      " chNormalization)                                                \n",
      "                                                                 \n",
      " conv1d_3 (Conv1D)           (None, 251, 894)          8493894   \n",
      "                                                                 \n",
      "=================================================================\n",
      "Total params: 39317394 (149.98 MB)\n",
      "Trainable params: 39315194 (149.98 MB)\n",
      "Non-trainable params: 2200 (8.59 KB)\n",
      "_________________________________________________________________\n"
     ]
    }
   ],
   "source": [
    "# Print the model summary\n",
    "model.summary()"
   ]
  },
  {
   "cell_type": "code",
   "execution_count": 14,
   "metadata": {},
   "outputs": [],
   "source": [
    "# Define callbacks\n",
    "# Early stopping callback\n",
    "early_stopping_callback = tf.keras.callbacks.EarlyStopping(monitor = 'val_loss', patience = 10, mode = 'min', restore_best_weights = True)"
   ]
  },
  {
   "cell_type": "code",
   "execution_count": 15,
   "metadata": {},
   "outputs": [
    {
     "name": "stdout",
     "output_type": "stream",
     "text": [
      "Training the model...\n",
      "Epoch 1/2000\n"
     ]
    },
    {
     "name": "stderr",
     "output_type": "stream",
     "text": [
      "2024-02-06 21:08:40.858312: I tensorflow/compiler/xla/stream_executor/cuda/cuda_dnn.cc:432] Loaded cuDNN version 8905\n",
      "2024-02-06 21:08:42.618424: I tensorflow/compiler/xla/service/service.cc:168] XLA service 0x5567b221f640 initialized for platform CUDA (this does not guarantee that XLA will be used). Devices:\n",
      "2024-02-06 21:08:42.618448: I tensorflow/compiler/xla/service/service.cc:176]   StreamExecutor device (0): Tesla V100-SXM2-32GB, Compute Capability 7.0\n",
      "2024-02-06 21:08:42.618452: I tensorflow/compiler/xla/service/service.cc:176]   StreamExecutor device (1): Tesla V100-SXM2-32GB, Compute Capability 7.0\n",
      "2024-02-06 21:08:42.618455: I tensorflow/compiler/xla/service/service.cc:176]   StreamExecutor device (2): Tesla V100-SXM2-32GB, Compute Capability 7.0\n",
      "2024-02-06 21:08:42.618457: I tensorflow/compiler/xla/service/service.cc:176]   StreamExecutor device (3): Tesla V100-SXM2-32GB, Compute Capability 7.0\n",
      "2024-02-06 21:08:42.618460: I tensorflow/compiler/xla/service/service.cc:176]   StreamExecutor device (4): Tesla V100-SXM2-32GB, Compute Capability 7.0\n",
      "2024-02-06 21:08:42.618462: I tensorflow/compiler/xla/service/service.cc:176]   StreamExecutor device (5): Tesla V100-SXM2-32GB, Compute Capability 7.0\n",
      "2024-02-06 21:08:42.618465: I tensorflow/compiler/xla/service/service.cc:176]   StreamExecutor device (6): Tesla V100-SXM2-32GB, Compute Capability 7.0\n",
      "2024-02-06 21:08:42.618467: I tensorflow/compiler/xla/service/service.cc:176]   StreamExecutor device (7): Tesla V100-SXM2-32GB, Compute Capability 7.0\n",
      "2024-02-06 21:08:42.696637: I tensorflow/compiler/mlir/tensorflow/utils/dump_mlir_util.cc:255] disabling MLIR crash reproducer, set env var `MLIR_CRASH_REPRODUCER_DIRECTORY` to enable.\n",
      "2024-02-06 21:08:43.297022: I ./tensorflow/compiler/jit/device_compiler.h:186] Compiled cluster using XLA!  This line is logged at most once for the lifetime of the process.\n"
     ]
    },
    {
     "name": "stdout",
     "output_type": "stream",
     "text": [
      "400/400 [==============================] - 65s 148ms/step - loss: 0.0571 - mse: 0.0480 - val_loss: 0.0227 - val_mse: 0.0046\n",
      "Epoch 2/2000\n",
      "400/400 [==============================] - 46s 114ms/step - loss: 0.0255 - mse: 0.0142 - val_loss: 0.0195 - val_mse: 0.0111\n",
      "Epoch 3/2000\n",
      "400/400 [==============================] - 45s 114ms/step - loss: 0.0181 - mse: 0.0091 - val_loss: 0.0183 - val_mse: 0.0158\n",
      "Epoch 4/2000\n",
      "400/400 [==============================] - 46s 114ms/step - loss: 0.0109 - mse: 0.0037 - val_loss: 0.0110 - val_mse: 0.0079\n",
      "Epoch 5/2000\n",
      "400/400 [==============================] - 46s 114ms/step - loss: 0.0083 - mse: 0.0020 - val_loss: 0.0184 - val_mse: 0.0091\n",
      "Epoch 6/2000\n",
      "400/400 [==============================] - 46s 114ms/step - loss: 0.0077 - mse: 0.0019 - val_loss: 0.0039 - val_mse: 5.4754e-04\n",
      "Epoch 7/2000\n",
      "400/400 [==============================] - 46s 114ms/step - loss: 0.0045 - mse: 5.5671e-04 - val_loss: 0.0033 - val_mse: 4.0218e-04\n",
      "Epoch 8/2000\n",
      "400/400 [==============================] - 46s 114ms/step - loss: 0.0034 - mse: 2.7478e-04 - val_loss: 0.0028 - val_mse: 2.3019e-04\n",
      "Epoch 9/2000\n",
      "400/400 [==============================] - 46s 114ms/step - loss: 0.0026 - mse: 1.4685e-04 - val_loss: 0.0019 - val_mse: 6.1332e-05\n",
      "Epoch 10/2000\n",
      "400/400 [==============================] - 46s 114ms/step - loss: 0.0018 - mse: 5.0902e-05 - val_loss: 0.0015 - val_mse: 3.0583e-05\n",
      "Epoch 11/2000\n",
      "400/400 [==============================] - 46s 114ms/step - loss: 0.0014 - mse: 2.2378e-05 - val_loss: 0.0011 - val_mse: 1.3304e-05\n",
      "Epoch 12/2000\n",
      "400/400 [==============================] - 46s 114ms/step - loss: 0.0012 - mse: 1.2738e-05 - val_loss: 9.8737e-04 - val_mse: 7.7531e-06\n",
      "Epoch 13/2000\n",
      "400/400 [==============================] - 46s 114ms/step - loss: 0.0011 - mse: 8.8857e-06 - val_loss: 9.7626e-04 - val_mse: 6.6925e-06\n",
      "Epoch 14/2000\n",
      "400/400 [==============================] - 46s 114ms/step - loss: 0.0010 - mse: 7.1861e-06 - val_loss: 9.4055e-04 - val_mse: 7.8827e-06\n",
      "Epoch 15/2000\n",
      "400/400 [==============================] - 46s 114ms/step - loss: 9.8661e-04 - mse: 6.5073e-06 - val_loss: 8.7827e-04 - val_mse: 4.6574e-06\n",
      "Epoch 16/2000\n",
      "400/400 [==============================] - 46s 114ms/step - loss: 9.0608e-04 - mse: 5.3339e-06 - val_loss: 7.8341e-04 - val_mse: 3.6278e-06\n",
      "Epoch 17/2000\n",
      "400/400 [==============================] - 46s 114ms/step - loss: 9.0173e-04 - mse: 5.2497e-06 - val_loss: 7.1736e-04 - val_mse: 3.3819e-06\n",
      "Epoch 18/2000\n",
      "400/400 [==============================] - 46s 114ms/step - loss: 8.5795e-04 - mse: 4.7424e-06 - val_loss: 6.9727e-04 - val_mse: 2.9486e-06\n",
      "Epoch 19/2000\n",
      "400/400 [==============================] - 46s 114ms/step - loss: 8.4193e-04 - mse: 4.4667e-06 - val_loss: 7.6065e-04 - val_mse: 3.4134e-06\n",
      "Epoch 20/2000\n",
      "400/400 [==============================] - 46s 114ms/step - loss: 8.2008e-04 - mse: 4.2676e-06 - val_loss: 7.8726e-04 - val_mse: 3.1561e-06\n",
      "Epoch 21/2000\n",
      "400/400 [==============================] - 46s 114ms/step - loss: 7.9206e-04 - mse: 3.8495e-06 - val_loss: 6.4742e-04 - val_mse: 2.5182e-06\n",
      "Epoch 22/2000\n",
      "400/400 [==============================] - 46s 114ms/step - loss: 7.9776e-04 - mse: 3.9338e-06 - val_loss: 6.1154e-04 - val_mse: 2.1730e-06\n",
      "Epoch 23/2000\n",
      "400/400 [==============================] - 46s 114ms/step - loss: 7.7276e-04 - mse: 3.6694e-06 - val_loss: 7.2149e-04 - val_mse: 2.8734e-06\n",
      "Epoch 24/2000\n",
      "400/400 [==============================] - 45s 114ms/step - loss: 7.5968e-04 - mse: 3.5041e-06 - val_loss: 6.9151e-04 - val_mse: 2.4918e-06\n",
      "Epoch 25/2000\n",
      "400/400 [==============================] - 45s 114ms/step - loss: 7.6611e-04 - mse: 3.5079e-06 - val_loss: 7.1771e-04 - val_mse: 2.8117e-06\n",
      "Epoch 26/2000\n",
      "400/400 [==============================] - 46s 114ms/step - loss: 7.5903e-04 - mse: 3.4619e-06 - val_loss: 6.0189e-04 - val_mse: 1.8995e-06\n",
      "Epoch 27/2000\n",
      "400/400 [==============================] - 46s 114ms/step - loss: 7.5217e-04 - mse: 3.4295e-06 - val_loss: 6.6222e-04 - val_mse: 2.5828e-06\n",
      "Epoch 28/2000\n",
      "400/400 [==============================] - 46s 114ms/step - loss: 7.3294e-04 - mse: 3.2106e-06 - val_loss: 6.2745e-04 - val_mse: 2.2303e-06\n",
      "Epoch 29/2000\n",
      "400/400 [==============================] - 46s 114ms/step - loss: 7.2753e-04 - mse: 3.0738e-06 - val_loss: 7.3942e-04 - val_mse: 3.7271e-06\n",
      "Epoch 30/2000\n",
      "400/400 [==============================] - 46s 114ms/step - loss: 7.2489e-04 - mse: 3.0314e-06 - val_loss: 5.3687e-04 - val_mse: 1.6262e-06\n",
      "Epoch 31/2000\n",
      "400/400 [==============================] - 46s 114ms/step - loss: 7.0308e-04 - mse: 2.8610e-06 - val_loss: 6.4828e-04 - val_mse: 2.3465e-06\n",
      "Epoch 32/2000\n",
      "400/400 [==============================] - 46s 114ms/step - loss: 6.9990e-04 - mse: 2.7482e-06 - val_loss: 5.5253e-04 - val_mse: 1.6726e-06\n",
      "Epoch 33/2000\n",
      "400/400 [==============================] - 46s 114ms/step - loss: 7.0204e-04 - mse: 2.7686e-06 - val_loss: 5.0302e-04 - val_mse: 1.3326e-06\n",
      "Epoch 34/2000\n",
      "400/400 [==============================] - 46s 114ms/step - loss: 7.0388e-04 - mse: 2.8036e-06 - val_loss: 5.3648e-04 - val_mse: 1.4197e-06\n",
      "Epoch 35/2000\n",
      "400/400 [==============================] - 46s 114ms/step - loss: 6.8821e-04 - mse: 2.6417e-06 - val_loss: 5.0691e-04 - val_mse: 1.5063e-06\n",
      "Epoch 36/2000\n",
      "400/400 [==============================] - 45s 114ms/step - loss: 6.9834e-04 - mse: 2.8111e-06 - val_loss: 6.5477e-04 - val_mse: 1.8517e-06\n",
      "Epoch 37/2000\n",
      "400/400 [==============================] - 46s 114ms/step - loss: 6.7087e-04 - mse: 2.4887e-06 - val_loss: 5.7389e-04 - val_mse: 1.7058e-06\n",
      "Epoch 38/2000\n",
      "400/400 [==============================] - 46s 114ms/step - loss: 6.7827e-04 - mse: 2.5276e-06 - val_loss: 5.4303e-04 - val_mse: 1.3609e-06\n",
      "Epoch 39/2000\n",
      "400/400 [==============================] - 46s 114ms/step - loss: 6.5614e-04 - mse: 2.3542e-06 - val_loss: 5.6022e-04 - val_mse: 1.5065e-06\n",
      "Epoch 40/2000\n",
      "400/400 [==============================] - 45s 114ms/step - loss: 7.8772e-04 - mse: 2.8753e-06 - val_loss: 5.3336e-04 - val_mse: 1.6569e-06\n",
      "Epoch 41/2000\n",
      "400/400 [==============================] - 46s 114ms/step - loss: 6.4345e-04 - mse: 2.4367e-06 - val_loss: 6.4828e-04 - val_mse: 2.4057e-06\n",
      "Epoch 42/2000\n",
      "400/400 [==============================] - 46s 114ms/step - loss: 6.3207e-04 - mse: 2.2888e-06 - val_loss: 5.2707e-04 - val_mse: 1.2749e-06\n",
      "Epoch 43/2000\n",
      "400/400 [==============================] - 46s 114ms/step - loss: 6.5372e-04 - mse: 2.4188e-06 - val_loss: 6.3401e-04 - val_mse: 2.0066e-06\n"
     ]
    }
   ],
   "source": [
    "# Train the model\n",
    "print('Training the model...')\n",
    "history = model.train(normalized_training_displacement_data, normalized_training_force_data, epochs = 2000, batch_size = 32, callbacks=[early_stopping_callback])"
   ]
  },
  {
   "cell_type": "code",
   "execution_count": 16,
   "metadata": {},
   "outputs": [
    {
     "data": {
      "image/png": "[encoded data removed]",
      "text/plain": [
       "<Figure size 640x480 with 1 Axes>"
      ]
     },
     "metadata": {},
     "output_type": "display_data"
    },
    {
     "data": {
      "image/png": "[encoded data removed]",
      "text/plain": [
       "<Figure size 640x480 with 1 Axes>"
      ]
     },
     "metadata": {},
     "output_type": "display_data"
    }
   ],
   "source": [
    "plot = plots(history, trained_results_directory)\n",
    "loss_plot = plot.loss()\n",
    "evaluation_metric_plot = plot.evaluation_metric()"
   ]
  },
  {
   "cell_type": "code",
   "execution_count": 17,
   "metadata": {},
   "outputs": [
    {
     "name": "stdout",
     "output_type": "stream",
     "text": [
      "Saving the model...\n"
     ]
    },
    {
     "name": "stderr",
     "output_type": "stream",
     "text": [
      "/usr/local/lib/python3.10/dist-packages/keras/src/engine/training.py:3000: UserWarning: You are saving your model as an HDF5 file via `model.save()`. This file format is considered legacy. We recommend using instead the native Keras format, e.g. `model.save('my_model.keras')`.\n",
      "  saving_api.save_model(\n"
     ]
    }
   ],
   "source": [
    "# Save the model\n",
    "print('Saving the model...')\n",
    "model.model.save(os.path.join(trained_results_directory, 'model.h5'))"
   ]
  }
 ],
 "metadata": {
  "kernelspec": {
   "display_name": "NGC TensorFlow",
   "language": "python",
   "name": "tensorflow"
  },
  "language_info": {
   "codemirror_mode": {
    "name": "ipython",
    "version": 3
   },
   "file_extension": ".py",
   "mimetype": "text/x-python",
   "name": "python",
   "nbconvert_exporter": "python",
   "pygments_lexer": "ipython3",
   "version": "3.10.12"
  }
 },
 "nbformat": 4,
 "nbformat_minor": 4
}
